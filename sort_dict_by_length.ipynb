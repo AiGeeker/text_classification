{
 "cells": [
  {
   "cell_type": "code",
   "execution_count": 1,
   "metadata": {},
   "outputs": [],
   "source": [
    "# encoding=utf8\n",
    "import os\n",
    "dict_file = open(\"现代汉语补充词库.txt\",\"r\", encoding=\"utf8\")\n",
    "d={}\n",
    "[d.update({line:len(line.split(\" \")[0])}) for line in dict_file]\n",
    "f = sorted(d.items(), key=lambda x:x[1], reverse=True)\n",
    "dict_file = open(\"现代汉语补充词库1.txt\",\"w\", encoding=\"utf8\")\n",
    "[dict_file.write(item[0]) for item in f]\n",
    "dict_file.close()"
   ]
  }
 ],
 "metadata": {
  "kernelspec": {
   "display_name": "Python 3",
   "language": "python",
   "name": "python3"
  },
  "language_info": {
   "codemirror_mode": {
    "name": "ipython",
    "version": 3
   },
   "file_extension": ".py",
   "mimetype": "text/x-python",
   "name": "python",
   "nbconvert_exporter": "python",
   "pygments_lexer": "ipython3",
   "version": "3.6.3"
  }
 },
 "nbformat": 4,
 "nbformat_minor": 2
}
